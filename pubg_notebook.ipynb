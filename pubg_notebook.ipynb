{
 "cells": [
  {
   "cell_type": "code",
   "execution_count": 1,
   "id": "43d1bcce-43e0-4739-aba5-756a30d5a343",
   "metadata": {
    "tags": []
   },
   "outputs": [
    {
     "data": {
      "text/html": [
       "\n",
       "            <div>\n",
       "                <p><b>SparkSession - in-memory</b></p>\n",
       "                \n",
       "        <div>\n",
       "            <p><b>SparkContext</b></p>\n",
       "\n",
       "            <p><a href=\"http://DESKTOP-OJ6063I.mshome.net:4040\">Spark UI</a></p>\n",
       "\n",
       "            <dl>\n",
       "              <dt>Version</dt>\n",
       "                <dd><code>v3.4.0</code></dd>\n",
       "              <dt>Master</dt>\n",
       "                <dd><code>local[*]</code></dd>\n",
       "              <dt>AppName</dt>\n",
       "                <dd><code>pubg</code></dd>\n",
       "            </dl>\n",
       "        </div>\n",
       "        \n",
       "            </div>\n",
       "        "
      ],
      "text/plain": [
       "<pyspark.sql.session.SparkSession at 0x219b9a19a10>"
      ]
     },
     "execution_count": 1,
     "metadata": {},
     "output_type": "execute_result"
    }
   ],
   "source": [
    "# import pyspark\n",
    "from pyspark.sql import SparkSession\n",
    "\n",
    "spark = (SparkSession\n",
    "        .builder\n",
    "        .master('local[*]')\n",
    "        .appName('pubg')\n",
    "        .getOrCreate())\n",
    "spark"
   ]
  },
  {
   "cell_type": "code",
   "execution_count": 2,
   "id": "90406170-43cf-4850-a356-3b341cc790b6",
   "metadata": {
    "tags": []
   },
   "outputs": [
    {
     "data": {
      "text/plain": [
       "'5'"
      ]
     },
     "execution_count": 2,
     "metadata": {},
     "output_type": "execute_result"
    }
   ],
   "source": [
    "spark.conf.get(\"spark.sql.shuffle.partitions\")\n",
    "spark.conf.set(\"spark.sql.shuffle.partitions\", 5)\n",
    "spark.conf.get(\"spark.sql.shuffle.partitions\")"
   ]
  },
  {
   "cell_type": "code",
   "execution_count": 2,
   "id": "75344c52-bdec-4a63-9dec-10a1f751c56a",
   "metadata": {
    "tags": []
   },
   "outputs": [],
   "source": [
    "path_agg = 'C:\\\\Users\\\\FTS_DEMO\\\\Desktop\\Power BI\\\\archive\\\\aggregate\\\\'\n",
    "path_deaths = 'C:\\\\Users\\\\FTS_DEMO\\\\Desktop\\\\Power BI\\\\archive\\\\deaths\\\\'"
   ]
  },
  {
   "cell_type": "code",
   "execution_count": 3,
   "id": "e0ec62e8-c4ef-4fff-bd76-49ea709d1adf",
   "metadata": {
    "tags": []
   },
   "outputs": [
    {
     "name": "stdout",
     "output_type": "stream",
     "text": [
      "['agg_match_stats_0.csv', 'agg_match_stats_1.csv', 'agg_match_stats_2.csv', 'agg_match_stats_3.csv', 'agg_match_stats_4.csv']\n",
      "['kill_match_stats_final_0.csv', 'kill_match_stats_final_1.csv', 'kill_match_stats_final_2.csv', 'kill_match_stats_final_3.csv', 'kill_match_stats_final_4.csv']\n"
     ]
    }
   ],
   "source": [
    "import os\n",
    "for file in os.listdir(path_agg),os.listdir(path_deaths):\n",
    "    print(file)"
   ]
  },
  {
   "cell_type": "code",
   "execution_count": 4,
   "id": "1bace344-d855-4bb4-aa5b-0bcf0062766c",
   "metadata": {
    "tags": []
   },
   "outputs": [],
   "source": [
    "# build spark schema based on first files\n",
    "# theoreticaly could have inferschema on each, it would not be efficient\n",
    "\n",
    "agg_match_stats_0 = spark.read.csv(path_agg+'agg_match_stats_0.csv',inferSchema = True, header=True)\n",
    "kill_match_stats_final_0 = spark.read.csv(path_deaths+'kill_match_stats_final_0.csv',inferSchema = True, header=True)"
   ]
  },
  {
   "cell_type": "code",
   "execution_count": 25,
   "id": "76748a9f-2c74-4f40-9945-32e12105733c",
   "metadata": {
    "tags": []
   },
   "outputs": [
    {
     "name": "stdout",
     "output_type": "stream",
     "text": [
      "agg_match_stats_1\n",
      "agg_match_stats_2\n",
      "agg_match_stats_3\n",
      "agg_match_stats_4\n",
      "kill_match_stats_final_1\n",
      "kill_match_stats_final_2\n",
      "kill_match_stats_final_3\n",
      "kill_match_stats_final_4\n",
      "['agg_match_stats_1', 'agg_match_stats_2', 'agg_match_stats_3', 'agg_match_stats_4', 'kill_match_stats_final_1', 'kill_match_stats_final_2', 'kill_match_stats_final_3', 'kill_match_stats_final_4']\n"
     ]
    }
   ],
   "source": [
    "# build spark dfs\n",
    "\n",
    "df_list = []\n",
    "for file in os.listdir(path_agg):\n",
    "\n",
    "    if file.endswith('.csv') and file.find('0.csv') < 0:\n",
    "        df_name = file[:file.find('.csv')]\n",
    "        df = spark.read.csv(path_agg+file,schema=agg_match_stats_0.schema,header=True) \n",
    "        df.name = df_name\n",
    "        print(df.name)\n",
    "        df_list.append(df_name)\n",
    "        exec(df_name + '= df')\n",
    "        \n",
    "\n",
    "for file in os.listdir(path_deaths):\n",
    "\n",
    "    if file.endswith('.csv') and file.find('0.csv') < 0:\n",
    "        df_name = file[:file.find('.csv')]\n",
    "        df = spark.read.csv(path_deaths+file,schema=kill_match_stats_final_0.schema,header=True) \n",
    "        df.name = df_name\n",
    "        print(df.name)\n",
    "        df_list.append(df_name)\n",
    "        exec(df_name + '= df')\n",
    "\n",
    "print(df_list)"
   ]
  },
  {
   "cell_type": "code",
   "execution_count": 6,
   "id": "dd741cfb-61a5-4e7e-a590-416ac8ba6438",
   "metadata": {
    "tags": []
   },
   "outputs": [],
   "source": [
    "df_list.append('agg_match_stats_0')\n",
    "df_list.append('kill_match_stats_final_0')"
   ]
  },
  {
   "cell_type": "code",
   "execution_count": 7,
   "id": "4b86e658-dc8b-4302-af4b-c4158091ba7b",
   "metadata": {
    "tags": []
   },
   "outputs": [],
   "source": [
    "# to be looped\n",
    "agg_match_stats = agg_match_stats_0.union(agg_match_stats_1).union(agg_match_stats_2).union(agg_match_stats_3).union(agg_match_stats_4)\n",
    "kill_match_stats_final = kill_match_stats_final_0.union(kill_match_stats_final_1).union(kill_match_stats_final_2).union(kill_match_stats_final_3).union(kill_match_stats_final_4)"
   ]
  },
  {
   "cell_type": "code",
   "execution_count": 8,
   "id": "b0d112c3-de36-474b-88fa-b573a4d0d916",
   "metadata": {
    "tags": []
   },
   "outputs": [
    {
     "name": "stdout",
     "output_type": "stream",
     "text": [
      "+------------+----------------+----------------+-----------------+-----------------+-------+--------------------+----+---------------+----------------+-----------------+-----------------+\n",
      "|   killed_by|     killer_name|killer_placement|killer_position_x|killer_position_y|    map|            match_id|time|    victim_name|victim_placement|victim_position_x|victim_position_y|\n",
      "+------------+----------------+----------------+-----------------+-----------------+-------+--------------------+----+---------------+----------------+-----------------+-----------------+\n",
      "|     Grenade| KrazyPortuguese|             5.0|         657725.1|         146275.2|MIRAMAR|2U4GBNA0YmnLSqvEy...| 823|KrazyPortuguese|             5.0|         657725.1|         146275.2|\n",
      "|      SCAR-L|nide2Bxiaojiejie|            31.0|         93091.37|         722236.4|MIRAMAR|2U4GBNA0YmnLSqvEy...| 194|    X3evolution|            33.0|         92238.68|         723375.1|\n",
      "|        S686|        Ascholes|            43.0|         366921.4|         421623.9|MIRAMAR|2U4GBNA0YmnLSqvEy...| 103|        CtrlZee|            46.0|         367304.5|         421216.1|\n",
      "|Down and Out|      Weirdo7777|             9.0|         472014.2|         313274.8|MIRAMAR|2U4GBNA0YmnLSqvEy...|1018|      BlackDpre|            13.0|         476645.9|         316758.4|\n",
      "|        M416|       Solayuki1|             9.0|         473357.8|         318340.5|MIRAMAR|2U4GBNA0YmnLSqvEy...|1018|          Vjolt|            13.0|         473588.5|         318418.8|\n",
      "+------------+----------------+----------------+-----------------+-----------------+-------+--------------------+----+---------------+----------------+-----------------+-----------------+\n",
      "only showing top 5 rows\n",
      "\n",
      "+-------------------+---------+--------------------+----------+----------+--------------+-----------+------------------+------------------+----------+------------+-----------+-------------------+-------+--------------+\n",
      "|               date|game_size|            match_id|match_mode|party_size|player_assists|player_dbno|  player_dist_ride|  player_dist_walk|player_dmg|player_kills|player_name|player_survive_time|team_id|team_placement|\n",
      "+-------------------+---------+--------------------+----------+----------+--------------+-----------+------------------+------------------+----------+------------+-----------+-------------------+-------+--------------+\n",
      "|2017-11-26 21:59:40|       37|2U4GBNA0YmnNZYkzj...|       tpp|         2|             0|          1|          2870.724|        1784.84778|       117|           1|   SnuffIes|            1106.32|      4|            18|\n",
      "|2017-11-26 21:59:40|       37|2U4GBNA0YmnNZYkzj...|       tpp|         2|             0|          1|2938.4072300000003|1756.0797100000002|       127|           1|     Ozon3r|           1106.315|      4|            18|\n",
      "|2017-11-26 21:59:40|       37|2U4GBNA0YmnNZYkzj...|       tpp|         2|             0|          0|               0.0|        224.157562|        67|           0|     bovize|            235.558|      5|            33|\n",
      "|2017-11-26 21:59:40|       37|2U4GBNA0YmnNZYkzj...|       tpp|         2|             0|          0|               0.0|          92.93515|         0|           0|    sbahn87|            197.553|      5|            33|\n",
      "|2017-11-26 21:59:40|       37|2U4GBNA0YmnNZYkzj...|       tpp|         2|             0|          0|        2619.07739|          2510.447|       175|           2|  GeminiZZZ|           1537.495|     14|            11|\n",
      "+-------------------+---------+--------------------+----------+----------+--------------+-----------+------------------+------------------+----------+------------+-----------+-------------------+-------+--------------+\n",
      "only showing top 5 rows\n",
      "\n"
     ]
    }
   ],
   "source": [
    "kill_match_stats_final.show(5)\n",
    "agg_match_stats.show(5)"
   ]
  },
  {
   "cell_type": "code",
   "execution_count": 9,
   "id": "354c9254-3249-488a-b611-3350cc08bad7",
   "metadata": {
    "tags": []
   },
   "outputs": [
    {
     "name": "stdout",
     "output_type": "stream",
     "text": [
      "root\n",
      " |-- killed_by: string (nullable = true)\n",
      " |-- killer_name: string (nullable = true)\n",
      " |-- killer_placement: double (nullable = true)\n",
      " |-- killer_position_x: double (nullable = true)\n",
      " |-- killer_position_y: double (nullable = true)\n",
      " |-- map: string (nullable = true)\n",
      " |-- match_id: string (nullable = true)\n",
      " |-- time: integer (nullable = true)\n",
      " |-- victim_name: string (nullable = true)\n",
      " |-- victim_placement: double (nullable = true)\n",
      " |-- victim_position_x: double (nullable = true)\n",
      " |-- victim_position_y: double (nullable = true)\n",
      "\n",
      "root\n",
      " |-- date: timestamp (nullable = true)\n",
      " |-- game_size: integer (nullable = true)\n",
      " |-- match_id: string (nullable = true)\n",
      " |-- match_mode: string (nullable = true)\n",
      " |-- party_size: integer (nullable = true)\n",
      " |-- player_assists: integer (nullable = true)\n",
      " |-- player_dbno: integer (nullable = true)\n",
      " |-- player_dist_ride: double (nullable = true)\n",
      " |-- player_dist_walk: double (nullable = true)\n",
      " |-- player_dmg: integer (nullable = true)\n",
      " |-- player_kills: integer (nullable = true)\n",
      " |-- player_name: string (nullable = true)\n",
      " |-- player_survive_time: double (nullable = true)\n",
      " |-- team_id: integer (nullable = true)\n",
      " |-- team_placement: integer (nullable = true)\n",
      "\n"
     ]
    }
   ],
   "source": [
    "kill_match_stats_final.printSchema()\n",
    "agg_match_stats.printSchema()"
   ]
  },
  {
   "cell_type": "code",
   "execution_count": 10,
   "id": "0640804c-e315-4eae-9b7c-edc1353d28aa",
   "metadata": {
    "tags": []
   },
   "outputs": [
    {
     "name": "stdout",
     "output_type": "stream",
     "text": [
      "+----------------+\n",
      "|killer_is_victim|\n",
      "+----------------+\n",
      "|          966906|\n",
      "+----------------+\n",
      "\n"
     ]
    }
   ],
   "source": [
    "kill_match_stats_final.createOrReplaceTempView('kill_match_stats_final_t')\n",
    "\n",
    "spark.sql(\n",
    "    'select count(*) as killer_is_victim from kill_match_stats_final_t where killer_name = victim_name'\n",
    ").show()"
   ]
  },
  {
   "cell_type": "code",
   "execution_count": 11,
   "id": "25ed7ad2-690c-44f8-9716-b99eecf4e73a",
   "metadata": {
    "tags": []
   },
   "outputs": [
    {
     "name": "stdout",
     "output_type": "stream",
     "text": [
      "+-------+--------+\n",
      "|    map|   count|\n",
      "+-------+--------+\n",
      "|   null|  783392|\n",
      "|MIRAMAR|11622838|\n",
      "|ERANGEL|52964245|\n",
      "+-------+--------+\n",
      "\n"
     ]
    }
   ],
   "source": [
    "kill_match_stats_final.groupBy('map').count().show()"
   ]
  },
  {
   "cell_type": "code",
   "execution_count": 12,
   "id": "a499f582-5a84-4e8f-89dd-76a9ebf7bc9e",
   "metadata": {
    "tags": []
   },
   "outputs": [
    {
     "name": "stdout",
     "output_type": "stream",
     "text": [
      "+----------------------+----------------------+----------------------+----------------------+----------------------+----------------------+----------------------+----------------------+\n",
      "|min(killer_position_x)|max(killer_position_x)|min(killer_position_y)|max(killer_position_y)|min(victim_position_x)|max(victim_position_x)|min(victim_position_y)|max(victim_position_y)|\n",
      "+----------------------+----------------------+----------------------+----------------------+----------------------+----------------------+----------------------+----------------------+\n",
      "|             -688028.0|              810724.7|             -70411.01|              817629.8|             -688028.0|              930233.3|             -101266.9|              875298.1|\n",
      "+----------------------+----------------------+----------------------+----------------------+----------------------+----------------------+----------------------+----------------------+\n",
      "\n"
     ]
    }
   ],
   "source": [
    "spark.sql(\n",
    "    \"select \\\n",
    "    min(killer_position_x)  \\\n",
    "    ,max(killer_position_x) \\\n",
    "    ,min(killer_position_y) \\\n",
    "    ,max(killer_position_y) \\\n",
    "    ,min(victim_position_x) \\\n",
    "    ,max(victim_position_x) \\\n",
    "    ,min(victim_position_y) \\\n",
    "    ,max(victim_position_y) \\\n",
    "    from kill_match_stats_final_t where map = 'ERANGEL'\"\n",
    ").show()"
   ]
  },
  {
   "cell_type": "code",
   "execution_count": 13,
   "id": "4c6977ae-8a71-4b9c-9f67-3aeb748955c5",
   "metadata": {
    "tags": []
   },
   "outputs": [
    {
     "name": "stdout",
     "output_type": "stream",
     "text": [
      "+----------------------+----------------------+----------------------+----------------------+----------------------+----------------------+----------------------+----------------------+\n",
      "|min(killer_position_x)|max(killer_position_x)|min(killer_position_y)|max(killer_position_y)|min(victim_position_x)|max(victim_position_x)|min(victim_position_y)|max(victim_position_y)|\n",
      "+----------------------+----------------------+----------------------+----------------------+----------------------+----------------------+----------------------+----------------------+\n",
      "|                   0.0|              814274.4|                   0.0|              815183.8|             -63506.48|              894545.8|             -219036.2|              924352.4|\n",
      "+----------------------+----------------------+----------------------+----------------------+----------------------+----------------------+----------------------+----------------------+\n",
      "\n"
     ]
    }
   ],
   "source": [
    "spark.sql(\n",
    "    \"select \\\n",
    "    min(killer_position_x)  \\\n",
    "    ,max(killer_position_x) \\\n",
    "    ,min(killer_position_y) \\\n",
    "    ,max(killer_position_y) \\\n",
    "    ,min(victim_position_x) \\\n",
    "    ,max(victim_position_x) \\\n",
    "    ,min(victim_position_y) \\\n",
    "    ,max(victim_position_y) \\\n",
    "    from kill_match_stats_final_t where map = 'MIRAMAR'\"\n",
    ").show()"
   ]
  },
  {
   "cell_type": "code",
   "execution_count": 14,
   "id": "8e0ca377-3fbd-4114-b1cd-72f196527d7a",
   "metadata": {
    "tags": []
   },
   "outputs": [
    {
     "name": "stdout",
     "output_type": "stream",
     "text": [
      "+--------+\n",
      "|count(1)|\n",
      "+--------+\n",
      "|       0|\n",
      "+--------+\n",
      "\n"
     ]
    }
   ],
   "source": [
    "spark.sql(\n",
    "    \"select \\\n",
    "    count(*)  \\\n",
    "    from kill_match_stats_final_t where time <= 0 \"\n",
    ").show()"
   ]
  },
  {
   "cell_type": "code",
   "execution_count": 26,
   "id": "ec1d64ec-2819-43a5-ab64-ea63c46169d7",
   "metadata": {
    "tags": []
   },
   "outputs": [
    {
     "name": "stdout",
     "output_type": "stream",
     "text": [
      "+--------+\n",
      "|count(1)|\n",
      "+--------+\n",
      "|       0|\n",
      "+--------+\n",
      "\n"
     ]
    }
   ],
   "source": [
    "spark.sql(\n",
    "    \"select \\\n",
    "    count(*)  \\\n",
    "    from kill_match_stats_final_t where 'min(victim_position_x)' <= 0 \"\n",
    ").show()"
   ]
  },
  {
   "cell_type": "code",
   "execution_count": 15,
   "id": "7ce595cc-b59d-48da-b152-f007d59f26d9",
   "metadata": {
    "tags": []
   },
   "outputs": [],
   "source": [
    "# f for nulls count\n",
    "from pyspark.sql.functions import *\n",
    "\n",
    "def nullratio(df):\n",
    "    col_list = []\n",
    "    allvals = df.count()\n",
    "    \n",
    "    for k in df.columns:\n",
    "        nullvals = df.where(col(k).isNull()).count()\n",
    "        perc = (nullvals/allvals)*100\n",
    "        coltype = str(df.schema[k].dataType)\n",
    "        summary = k,coltype,nullvals,perc,allvals\n",
    "        col_list.append(summary)\n",
    "    endtable = spark.createDataFrame(col_list,['col_name','col_type','nullvals','perc','allvals'])\n",
    "    return(endtable)"
   ]
  },
  {
   "cell_type": "code",
   "execution_count": 16,
   "id": "802f5f09-8dbc-46bc-9259-50096b5dcda7",
   "metadata": {
    "tags": []
   },
   "outputs": [
    {
     "name": "stdout",
     "output_type": "stream",
     "text": [
      "+-----------------+-------------+--------+-----------------+--------+\n",
      "|         col_name|     col_type|nullvals|             perc| allvals|\n",
      "+-----------------+-------------+--------+-----------------+--------+\n",
      "|        killed_by| StringType()|       0|              0.0|65370475|\n",
      "|      killer_name| StringType()| 4517469|6.910564746546511|65370475|\n",
      "| killer_placement| DoubleType()| 4517469|6.910564746546511|65370475|\n",
      "|killer_position_x| DoubleType()| 4517469|6.910564746546511|65370475|\n",
      "|killer_position_y| DoubleType()| 4517469|6.910564746546511|65370475|\n",
      "|              map| StringType()|  783392|1.198388110228662|65370475|\n",
      "|         match_id| StringType()|       0|              0.0|65370475|\n",
      "|             time|IntegerType()|       0|              0.0|65370475|\n",
      "|      victim_name| StringType()|       0|              0.0|65370475|\n",
      "| victim_placement| DoubleType()| 1227694|1.878055804244959|65370475|\n",
      "|victim_position_x| DoubleType()|       0|              0.0|65370475|\n",
      "|victim_position_y| DoubleType()|       0|              0.0|65370475|\n",
      "+-----------------+-------------+--------+-----------------+--------+\n",
      "\n"
     ]
    }
   ],
   "source": [
    "kms_n = nullratio(kill_match_stats_final)\n",
    "kms_n.show()"
   ]
  },
  {
   "cell_type": "code",
   "execution_count": 18,
   "id": "c42cee01-c681-4f16-acbd-68df15bf98bf",
   "metadata": {
    "tags": []
   },
   "outputs": [
    {
     "name": "stdout",
     "output_type": "stream",
     "text": [
      "+------------+-----------+----------------+-----------------+-----------------+----+--------------------+----+--------------+----------------+-----------------+-----------------+\n",
      "|   killed_by|killer_name|killer_placement|killer_position_x|killer_position_y| map|            match_id|time|   victim_name|victim_placement|victim_position_x|victim_position_y|\n",
      "+------------+-----------+----------------+-----------------+-----------------+----+--------------------+----+--------------+----------------+-----------------+-----------------+\n",
      "|Down and Out|       null|            null|             null|             null|null|2U4GBNA0YmmJReBAX...|1182|       woyaopi|            null|         211354.2|         400596.2|\n",
      "|Down and Out|       null|            null|             null|             null|null|2U4GBNA0YmnZgse-j...|1672|   Buddha_Bear|            null|         572501.1|         345663.2|\n",
      "|Down and Out|       null|            null|             null|             null|null|2U4GBNA0YmnzIiFsc...|1664|        SxwLeo|            null|         325817.6|         505234.2|\n",
      "|Down and Out|       null|            null|             null|             null|null|2U4GBNA0YmnG53Knn...|1069|cangshuxiaobai|            null|         445434.8|         467351.7|\n",
      "|Down and Out|       null|            null|             null|             null|null|2U4GBNA0YmnG53Knn...|1069|     PLAoutman|            null|         445507.1|         467394.8|\n",
      "|Down and Out|       null|            null|             null|             null|null|2U4GBNA0Ymm2FMm1F...| 122|      Hey-jake|            null|         443523.2|         624852.9|\n",
      "|     Falling|       null|            null|             null|             null|null|2U4GBNA0YmldEvaX8...| 241|     Antdogg02|            null|         627087.1|         377428.7|\n",
      "|Down and Out|       null|            null|             null|             null|null|2U4GBNA0YmnRJuhNY...|1770|        AAZ007|            null|         461258.2|         396634.8|\n",
      "|Down and Out|       null|            null|             null|             null|null|2U4GBNA0Ymlcb0Kvc...|1672|     tronman5k|            null|         539177.6|         601005.9|\n",
      "|     Falling|       null|            null|             null|             null|null|2U4GBNA0YmkMEhAx6...| 810|       FKDBTNJ|            null|         419631.3|         351528.3|\n",
      "|         Uaz|       null|            null|             null|             null|null|2U4GBNA0YmmtLwSFe...| 977|    jiaobaba51|            null|         553550.4|         473402.8|\n",
      "|Down and Out|       null|            null|             null|             null|null|2U4GBNA0YmlkweJcT...|1053|     Frostbork|            null|         551788.7|         573587.7|\n",
      "|Down and Out|       null|            null|             null|             null|null|2U4GBNA0YmkwXooyF...|1656|      timegaze|            null|         559630.4|         676177.1|\n",
      "|         Uaz|       null|            null|             null|             null|null|2U4GBNA0Ymk5Lh3IF...| 920|     ssssssyyy|            null|         537423.1|         315410.1|\n",
      "|     RedZone|       null|            null|             null|             null|null|2U4GBNA0YmleKlesd...| 292|    ziyingnizi|            null|         367146.6|         394650.9|\n",
      "|Down and Out|       null|            null|             null|             null|null|2U4GBNA0Ymm9fnvfs...|1463|      Li_Ahang|            null|         432901.3|         443348.0|\n",
      "|Down and Out|       null|            null|             null|             null|null|2U4GBNA0Ymlk_7nJz...| 885|        Foxfry|            null|         326342.8|         444257.9|\n",
      "|Down and Out|       null|            null|             null|             null|null|2U4GBNA0YmkcPfo3j...|1630|  WannengdeLSC|            null|         396788.2|         171428.1|\n",
      "|Down and Out|       null|            null|             null|             null|null|2U4GBNA0YmkldjST_...|1507|        wx95wx|            null|         250418.7|         316701.0|\n",
      "|Down and Out|       null|            null|             null|             null|null|2U4GBNA0YmkUosWgy...|1124| 1834946769lei|            null|         292100.0|         444513.1|\n",
      "+------------+-----------+----------------+-----------------+-----------------+----+--------------------+----+--------------+----------------+-----------------+-----------------+\n",
      "only showing top 20 rows\n",
      "\n"
     ]
    }
   ],
   "source": [
    "kill_match_stats_final.createOrReplaceTempView('kill_match_stats_final_t')\n",
    "\n",
    "spark.sql(\n",
    "        \"select * from kill_match_stats_final_t where ((killer_name is null) and (map is null) and (victim_placement is null))\"\n",
    "    ).show()"
   ]
  },
  {
   "cell_type": "code",
   "execution_count": 17,
   "id": "6d10b7eb-ac2a-4b23-b19e-5f09da619f33",
   "metadata": {
    "tags": []
   },
   "outputs": [
    {
     "name": "stdout",
     "output_type": "stream",
     "text": [
      "+-------------------+---------------+--------+-------------------+--------+\n",
      "|           col_name|       col_type|nullvals|               perc| allvals|\n",
      "+-------------------+---------------+--------+-------------------+--------+\n",
      "|               date|TimestampType()|       0|                0.0|67369231|\n",
      "|          game_size|  IntegerType()|       0|                0.0|67369231|\n",
      "|           match_id|   StringType()|       0|                0.0|67369231|\n",
      "|         match_mode|   StringType()|       0|                0.0|67369231|\n",
      "|         party_size|  IntegerType()|       0|                0.0|67369231|\n",
      "|     player_assists|  IntegerType()|       0|                0.0|67369231|\n",
      "|        player_dbno|  IntegerType()|       0|                0.0|67369231|\n",
      "|   player_dist_ride|   DoubleType()|       0|                0.0|67369231|\n",
      "|   player_dist_walk|   DoubleType()|       0|                0.0|67369231|\n",
      "|         player_dmg|  IntegerType()|       0|                0.0|67369231|\n",
      "|       player_kills|  IntegerType()|       0|                0.0|67369231|\n",
      "|        player_name|   StringType()|   97653|0.14495192916778285|67369231|\n",
      "|player_survive_time|   DoubleType()|       0|                0.0|67369231|\n",
      "|            team_id|  IntegerType()|       0|                0.0|67369231|\n",
      "|     team_placement|  IntegerType()|       0|                0.0|67369231|\n",
      "+-------------------+---------------+--------+-------------------+--------+\n",
      "\n"
     ]
    }
   ],
   "source": [
    "ams_n = nullratio(agg_match_stats)\n",
    "ams_n.show()"
   ]
  },
  {
   "cell_type": "code",
   "execution_count": 19,
   "id": "14a84def-3a54-4746-99bd-4ff3f8a4121b",
   "metadata": {
    "tags": []
   },
   "outputs": [
    {
     "name": "stdout",
     "output_type": "stream",
     "text": [
      "+-------------------+---------+--------------------+----------+----------+--------------+-----------+------------------+------------------+----------+------------+-----------+-------------------+-------+--------------+\n",
      "|               date|game_size|            match_id|match_mode|party_size|player_assists|player_dbno|  player_dist_ride|  player_dist_walk|player_dmg|player_kills|player_name|player_survive_time|team_id|team_placement|\n",
      "+-------------------+---------+--------------------+----------+----------+--------------+-----------+------------------+------------------+----------+------------+-----------+-------------------+-------+--------------+\n",
      "|2017-12-28 10:30:48|       48|2U4GBNA0YmnZDcOwR...|       tpp|         2|             0|          0|        2853.27246|        3584.87085|        13|           0|       null|           1494.819|     32|             3|\n",
      "|2017-12-31 14:11:48|       28|2U4GBNA0Ymkoxr2BY...|       tpp|         4|             0|          0|               0.0|18.893053100000003|         0|           0|       null|            137.642|     14|            24|\n",
      "|2017-12-17 07:37:50|       63|2U4GBNA0YmmyNWABC...|       tpp|         1|             0|          0|               0.0|        456.636841|         0|           0|       null|           1353.599| 100069|            42|\n",
      "|2018-01-08 03:01:25|       26|2U4GBNA0YmmGH1I8W...|       tpp|         4|             1|          0|3680.6997100000003|        2242.18872|         2|           0|       null|           1148.487|     10|             2|\n",
      "|2017-12-30 11:44:20|       85|2U4GBNA0YmkvCmIao...|       tpp|         1|             0|          0|        4101.64941|1165.5194099999999|         9|           0|       null|  947.7919999999999| 100090|            30|\n",
      "|2018-01-01 22:32:57|       28|2U4GBNA0YmnuJ2AtZ...|       tpp|         4|             0|          0|3686.0446799999995|         2411.1814|        37|           0|       null|           1768.519|      2|             4|\n",
      "|2018-01-01 22:32:57|       28|2U4GBNA0YmnuJ2AtZ...|       tpp|         4|             2|          1|139.19624299999998|3420.6357399999997|       216|           2|       null| 1872.5320000000002|      9|             2|\n",
      "|2017-12-17 06:28:35|       28|2U4GBNA0YmnIkC2ag...|       tpp|         4|             0|          0|               0.0|         106.50515|        18|           0|       null|            244.523|      1|            27|\n",
      "|2017-12-29 17:34:51|       90|2U4GBNA0Ymnp7WwAt...|       tpp|         1|             0|          0|               0.0|        31.7302437|         0|           0|       null|            137.389| 100095|            78|\n",
      "|2018-01-02 02:30:34|       25|2U4GBNA0YmmZIEjpl...|       tpp|         4|             0|          0|               0.0|          468.2952|         0|           0|       null|             245.97|      4|            24|\n",
      "|2017-10-20 10:13:31|       49|2U4GBNA0YmlYNAxlz...|       tpp|         2|             1|          0|        3278.58252|        1303.39551|       201|           2|       null|  882.8889999999999|     20|            19|\n",
      "|2017-12-30 22:29:12|       49|2U4GBNA0YmmQsSP1c...|       tpp|         2|             0|          1|               0.0|450.62335199999995|       100|           1|       null|            466.157|     33|            32|\n",
      "|2017-12-26 04:54:00|       45|2U4GBNA0YmlgjuTgi...|       tpp|         2|             0|          0|        3824.12085|        1882.00012|        29|           0|       null|            871.117|     21|            21|\n",
      "|2018-01-06 08:59:41|       27|2U4GBNA0Ymmv68B0f...|       tpp|         4|             0|          0|        2320.56421|1384.7512199999999|        17|           0|       null|           1342.494|     11|             8|\n",
      "|2017-12-27 08:38:25|       27|2U4GBNA0YmkFLnx7v...|       tpp|         4|             0|          3|               0.0|          726.9755|       376|           3|       null|  512.8240000000001|     27|            20|\n",
      "|2018-01-10 12:38:30|       49|2U4GBNA0Ymnlusxl5...|       tpp|         2|             0|          0|               0.0|          282.3858|        64|           0|       null|            352.385|      6|            31|\n",
      "|2017-12-25 21:08:47|       26|2U4GBNA0YmnfiJDqb...|       tpp|         4|             0|          0|               0.0|          887.1588|        42|           0|       null|            366.144|     13|            23|\n",
      "|2018-01-08 09:03:43|       29|2U4GBNA0Ymm_z3cS0...|       tpp|         4|             0|          0|               0.0|          422.2087|       127|           0|       null|            377.371|     15|            21|\n",
      "|2017-12-24 14:36:31|       30|2U4GBNA0YmnxsabBH...|       tpp|         4|             0|          0|          947.1471|1144.7377900000001|       103|           0|       null|            909.831|     24|            18|\n",
      "|2018-01-06 05:59:49|       46|2U4GBNA0YmnvBDO1P...|       tpp|         2|             0|          0|               0.0|               0.0|         0|           0|       null|  813.3989999999999|     50|            46|\n",
      "+-------------------+---------+--------------------+----------+----------+--------------+-----------+------------------+------------------+----------+------------+-----------+-------------------+-------+--------------+\n",
      "only showing top 20 rows\n",
      "\n"
     ]
    }
   ],
   "source": [
    "agg_match_stats.createOrReplaceTempView('agg_match_stats_t')\n",
    "\n",
    "spark.sql(\n",
    "        \"select * from agg_match_stats_t where player_name is null\"\n",
    "    ).show()"
   ]
  },
  {
   "cell_type": "markdown",
   "id": "b7356023-7645-40a3-a9e6-21e0024f0f0b",
   "metadata": {},
   "source": [
    "Remove nulls and nagative coordinates"
   ]
  },
  {
   "cell_type": "code",
   "execution_count": 20,
   "id": "d36d46c5-7435-43f0-94cd-0c951d6e49ee",
   "metadata": {
    "tags": []
   },
   "outputs": [],
   "source": [
    "kill_match_stats_final = kill_match_stats_final.na.drop(how='any', thresh=None, subset=None)"
   ]
  },
  {
   "cell_type": "code",
   "execution_count": 21,
   "id": "3fb03843-6506-416e-910e-539766ae5aaa",
   "metadata": {
    "tags": []
   },
   "outputs": [],
   "source": [
    "agg_match_stats = agg_match_stats.na.drop(how='any', thresh=None, subset=None)"
   ]
  },
  {
   "cell_type": "code",
   "execution_count": 22,
   "id": "9c83cc21-79d3-47e0-b84f-08d7bd06254d",
   "metadata": {
    "tags": []
   },
   "outputs": [],
   "source": [
    "kill_match_stats_final = kill_match_stats_final.filter(\"NOT(killer_position_x < 0 or killer_position_y < 0 or victim_position_x < 0 or victim_position_y < 0)\")"
   ]
  },
  {
   "cell_type": "markdown",
   "id": "1484c56b-48ce-457b-9157-ed56a98a2273",
   "metadata": {
    "tags": []
   },
   "source": [
    "# Most dangerous positions MIRMAR"
   ]
  },
  {
   "cell_type": "code",
   "execution_count": 36,
   "id": "9285822b-2e45-40d0-a610-9068ccde1550",
   "metadata": {
    "tags": []
   },
   "outputs": [],
   "source": [
    "kill_match_stats_final.createOrReplaceTempView('kill_match_stats_final_t_no_null')"
   ]
  },
  {
   "cell_type": "code",
   "execution_count": 37,
   "id": "3dbd0d3a-6db7-43d6-bc99-75c2c59e60a1",
   "metadata": {},
   "outputs": [
    {
     "name": "stdout",
     "output_type": "stream",
     "text": [
      "+----------------------+----------------------+----------------------+----------------------+----------------------+----------------------+----------------------+----------------------+\n",
      "|min(killer_position_x)|max(killer_position_x)|min(killer_position_y)|max(killer_position_y)|min(victim_position_x)|max(victim_position_x)|min(victim_position_y)|max(victim_position_y)|\n",
      "+----------------------+----------------------+----------------------+----------------------+----------------------+----------------------+----------------------+----------------------+\n",
      "|                   0.0|              814274.4|                   0.0|              815183.8|                   0.0|              814274.4|                   0.0|              815209.6|\n",
      "+----------------------+----------------------+----------------------+----------------------+----------------------+----------------------+----------------------+----------------------+\n",
      "\n"
     ]
    }
   ],
   "source": [
    "# scale\n",
    "\n",
    "spark.sql(\n",
    "    \"select \\\n",
    "    min(killer_position_x)  \\\n",
    "    ,max(killer_position_x) \\\n",
    "    ,min(killer_position_y) \\\n",
    "    ,max(killer_position_y) \\\n",
    "    ,min(victim_position_x) \\\n",
    "    ,max(victim_position_x) \\\n",
    "    ,min(victim_position_y) \\\n",
    "    ,max(victim_position_y) \\\n",
    "    from kill_match_stats_final_t_no_null where map = 'MIRAMAR'\"\n",
    ").show()"
   ]
  },
  {
   "cell_type": "code",
   "execution_count": 55,
   "id": "7020c1cb-7304-417f-910d-798513d8735d",
   "metadata": {
    "tags": []
   },
   "outputs": [
    {
     "name": "stdout",
     "output_type": "stream",
     "text": [
      "+-----------------+------------------+\n",
      "|victim_position_x| victim_position_y|\n",
      "+-----------------+------------------+\n",
      "|    528.646549125|117.56869200000001|\n",
      "|74.13683904999999|     581.412736625|\n",
      "|    295.220991875|     338.552440375|\n",
      "|    383.104142125|254.59456400000002|\n",
      "|    380.646756875|       255.9291105|\n",
      "+-----------------+------------------+\n",
      "only showing top 5 rows\n",
      "\n"
     ]
    }
   ],
   "source": [
    "# according to the info about df coordinates should be in the range 0,800000\n",
    "#scaling\n",
    "miramar_xy = kill_match_stats_final\\\n",
    "            .select('victim_position_x','victim_position_y') \\\n",
    "            .filter(col('map') == 'MIRAMAR')\\\n",
    "            .filter(col('victim_position_x') <= 800000)\\\n",
    "            .filter(col('victim_position_y') <= 800000)\\\n",
    "\n",
    "\n",
    "miramar_xy = miramar_xy\\\n",
    "        .withColumn('victim_position_x',col('victim_position_x')*643/800000)\\\n",
    "        .withColumn('victim_position_y',col('victim_position_y')*643/800000)\n",
    "\n",
    "\n",
    "\n",
    "miramar_xy.show(5)"
   ]
  },
  {
   "cell_type": "code",
   "execution_count": null,
   "id": "56c8a263-0ce8-45f4-9692-7eac9cc09d13",
   "metadata": {},
   "outputs": [],
   "source": [
    "# remove 0,0"
   ]
  },
  {
   "cell_type": "code",
   "execution_count": 57,
   "id": "b9756006-6125-46f7-9ee7-760bb8a80e4a",
   "metadata": {
    "tags": []
   },
   "outputs": [],
   "source": [
    "miramar_xy.write.option('header',True)\\\n",
    "   .csv('miramar_xy.csv')"
   ]
  },
  {
   "cell_type": "markdown",
   "id": "61904b25-e504-44c3-aded-a6a5b67c656b",
   "metadata": {},
   "source": [
    "# Time of survival ml"
   ]
  },
  {
   "cell_type": "code",
   "execution_count": 87,
   "id": "0a561442-775a-4606-a4d2-1a5532e42131",
   "metadata": {},
   "outputs": [],
   "source": [
    "time_pred_reg = kill_match_stats_final.filter(\"map = 'ERANGEL'\")\n",
    "\n",
    "time_pred_reg = time_pred_reg.select(['killer_position_x','killer_position_y','victim_position_x','victim_position_y','time'])"
   ]
  },
  {
   "cell_type": "code",
   "execution_count": 88,
   "id": "c6b2f908-2044-4d06-8f32-5cbd916f5870",
   "metadata": {
    "tags": []
   },
   "outputs": [
    {
     "data": {
      "text/plain": [
       "['killer_position_x',\n",
       " 'killer_position_y',\n",
       " 'victim_position_x',\n",
       " 'victim_position_y']"
      ]
     },
     "execution_count": 88,
     "metadata": {},
     "output_type": "execute_result"
    }
   ],
   "source": [
    "dep_var = 'time'\n",
    "ind_var = []\n",
    "for c in time_pred_reg.columns:\n",
    "    if c != 'time':\n",
    "        ind_var.append(c)\n",
    "    \n",
    "ind_var"
   ]
  },
  {
   "cell_type": "code",
   "execution_count": 89,
   "id": "25314ff5-5156-4174-9ffa-560f760598ad",
   "metadata": {
    "tags": []
   },
   "outputs": [],
   "source": [
    "# For data prep\n",
    "from pyspark.ml.feature import VectorAssembler\n",
    "from pyspark.sql.types import * \n",
    "from pyspark.sql.functions import *\n",
    "from pyspark.ml.feature import StringIndexer\n",
    "\n",
    "# To check for multicolinearity\n",
    "from pyspark.ml.stat import Correlation\n",
    "\n",
    "# For training and evaluation\n",
    "from pyspark.ml.regression import *\n",
    "from pyspark.ml.evaluation import *\n",
    "from pyspark.ml.tuning import CrossValidator, ParamGridBuilder"
   ]
  },
  {
   "cell_type": "code",
   "execution_count": 90,
   "id": "6ca492f8-81e1-4508-acb2-61992e4ef044",
   "metadata": {
    "tags": []
   },
   "outputs": [],
   "source": [
    "renamed = time_pred_reg.withColumnRenamed(dep_var,'label')\n",
    "\n",
    "if str(renamed.schema['label'].dataType) != 'IntegerType':\n",
    "    renamed = renamed.withColumn(\"label\", renamed[\"label\"].cast(FloatType()))"
   ]
  },
  {
   "cell_type": "code",
   "execution_count": 117,
   "id": "12cf3422-df98-41c7-999f-c69cf8407cac",
   "metadata": {
    "tags": []
   },
   "outputs": [],
   "source": [
    "# Create empty lists set up to divide you input list into numeric and string data types\n",
    "numeric_inputs = []\n",
    "string_inputs = []\n",
    "for column in ind_var:\n",
    "    if str(renamed.schema[column].dataType) == 'StringType':\n",
    "        new_col_name = column+\"_num\"\n",
    "        string_inputs.append(new_col_name)\n",
    "    else:\n",
    "        numeric_inputs.append(column)\n",
    "        indexed = renamed\n",
    "\n",
    "\n",
    "        \n",
    "# # If the dataframe contains string types\n",
    "# if len(string_inputs) != 0: \n",
    "#     # Then use the string indexer to convert them to numeric\n",
    "#     # Be careful not to convert a continuous variable that was read in incorrectly here\n",
    "#     # This is meant for categorical columns only\n",
    "#     for column in input_columns:\n",
    "#         if str(renamed.schema[column].dataType) == 'StringType':\n",
    "#             indexer = StringIndexer(inputCol=column, outputCol=column+\"_num\") \n",
    "#             indexed = indexer.fit(renamed).transform(renamed)\n",
    "# else:\n",
    "#     indexed = renamed"
   ]
  },
  {
   "cell_type": "code",
   "execution_count": 118,
   "id": "00554d3b-784a-40a1-9057-07813aae2461",
   "metadata": {
    "tags": []
   },
   "outputs": [
    {
     "name": "stdout",
     "output_type": "stream",
     "text": [
      "+--------------------+------+\n",
      "|            features| label|\n",
      "+--------------------+------+\n",
      "|[496989.8,312569....|1035.0|\n",
      "|[496989.8,312569....|1035.0|\n",
      "|[460416.7,414748....|1422.0|\n",
      "|[488034.1,347220....|1210.0|\n",
      "|[501062.9,425078....|1818.0|\n",
      "+--------------------+------+\n",
      "only showing top 5 rows\n",
      "\n"
     ]
    }
   ],
   "source": [
    "features_list = numeric_inputs\n",
    "assembler = VectorAssembler(inputCols=features_list,outputCol='features')\n",
    "final_data = assembler.transform(indexed).select('features','label')\n",
    "final_data.show(5)"
   ]
  },
  {
   "cell_type": "code",
   "execution_count": 120,
   "id": "41adb346-0eea-4846-827c-6ed1bfca97b9",
   "metadata": {
    "tags": []
   },
   "outputs": [],
   "source": [
    "pearsonCorr = Correlation.corr(final_data, 'features', 'pearson').collect()[0][0]\n",
    "array = pearsonCorr.toArray()"
   ]
  },
  {
   "cell_type": "code",
   "execution_count": 108,
   "id": "24944408-b01c-4040-b3c7-e9217ea674e7",
   "metadata": {
    "tags": []
   },
   "outputs": [
    {
     "data": {
      "text/plain": [
       "array([[1.        , 0.12796134, 0.87909412, 0.08553448],\n",
       "       [0.12796134, 1.        , 0.08743973, 0.88424543],\n",
       "       [0.87909412, 0.08743973, 1.        , 0.24319704],\n",
       "       [0.08553448, 0.88424543, 0.24319704, 1.        ]])"
      ]
     },
     "execution_count": 108,
     "metadata": {},
     "output_type": "execute_result"
    }
   ],
   "source": [
    "array"
   ]
  },
  {
   "cell_type": "code",
   "execution_count": null,
   "id": "ce75056d-96cd-4873-b6ad-e51c106aec61",
   "metadata": {},
   "outputs": [],
   "source": []
  },
  {
   "cell_type": "markdown",
   "id": "5d30ea89-9f5c-476a-b8f5-9594a3662f79",
   "metadata": {},
   "source": [
    "Predicting time you will be able to survive in the game depending where you are and with whom do you pleay with. "
   ]
  }
 ],
 "metadata": {
  "kernelspec": {
   "display_name": "Python 3",
   "language": "python",
   "name": "python3"
  },
  "language_info": {
   "codemirror_mode": {
    "name": "ipython",
    "version": 3
   },
   "file_extension": ".py",
   "mimetype": "text/x-python",
   "name": "python",
   "nbconvert_exporter": "python",
   "pygments_lexer": "ipython3",
   "version": "3.11.3"
  }
 },
 "nbformat": 4,
 "nbformat_minor": 5
}
